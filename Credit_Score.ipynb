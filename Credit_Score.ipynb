{
  "nbformat": 4,
  "nbformat_minor": 0,
  "metadata": {
    "colab": {
      "provenance": [],
      "authorship_tag": "ABX9TyMaTuciPZKBK0++CQrg7J8u",
      "include_colab_link": true
    },
    "kernelspec": {
      "name": "python3",
      "display_name": "Python 3"
    },
    "language_info": {
      "name": "python"
    }
  },
  "cells": [
    {
      "cell_type": "markdown",
      "metadata": {
        "id": "view-in-github",
        "colab_type": "text"
      },
      "source": [
        "<a href=\"https://colab.research.google.com/github/PutihPutih/creditscore_machine_learning/blob/main/Credit_Score.ipynb\" target=\"_parent\"><img src=\"https://colab.research.google.com/assets/colab-badge.svg\" alt=\"Open In Colab\"/></a>"
      ]
    },
    {
      "cell_type": "markdown",
      "source": [
        "required libraries"
      ],
      "metadata": {
        "id": "QjrdCF-KcuX4"
      }
    },
    {
      "cell_type": "code",
      "source": [
        "# Install kaggle API library if not already installed\n",
        "!pip install kagglehub\n",
        "\n",
        "# Import necessary libraries\n",
        "import pandas as pd\n",
        "import numpy as np\n",
        "from sklearn.preprocessing import StandardScaler, LabelEncoder\n",
        "from tensorflow.keras.models import Sequential\n",
        "from tensorflow.keras.layers import Dense\n"
      ],
      "metadata": {
        "colab": {
          "base_uri": "https://localhost:8080/"
        },
        "id": "UnK3axGhclGl",
        "outputId": "5970e477-b3cd-44ef-a70a-21c17309a7e5"
      },
      "execution_count": null,
      "outputs": [
        {
          "output_type": "stream",
          "name": "stdout",
          "text": [
            "Requirement already satisfied: kagglehub in /usr/local/lib/python3.10/dist-packages (0.3.3)\n",
            "Requirement already satisfied: packaging in /usr/local/lib/python3.10/dist-packages (from kagglehub) (24.1)\n",
            "Requirement already satisfied: requests in /usr/local/lib/python3.10/dist-packages (from kagglehub) (2.32.3)\n",
            "Requirement already satisfied: tqdm in /usr/local/lib/python3.10/dist-packages (from kagglehub) (4.66.5)\n",
            "Requirement already satisfied: charset-normalizer<4,>=2 in /usr/local/lib/python3.10/dist-packages (from requests->kagglehub) (3.4.0)\n",
            "Requirement already satisfied: idna<4,>=2.5 in /usr/local/lib/python3.10/dist-packages (from requests->kagglehub) (3.10)\n",
            "Requirement already satisfied: urllib3<3,>=1.21.1 in /usr/local/lib/python3.10/dist-packages (from requests->kagglehub) (2.2.3)\n",
            "Requirement already satisfied: certifi>=2017.4.17 in /usr/local/lib/python3.10/dist-packages (from requests->kagglehub) (2024.8.30)\n"
          ]
        }
      ]
    },
    {
      "cell_type": "markdown",
      "source": [
        "using kagglehub to download the dataset"
      ],
      "metadata": {
        "id": "hm4j1Guscyf9"
      }
    },
    {
      "cell_type": "code",
      "source": [
        "# Download the dataset using kagglehub\n",
        "import kagglehub\n",
        "\n",
        "# Adjust the dataset path if necessary\n",
        "path = kagglehub.dataset_download(\"parisrohan/credit-score-classification\")\n",
        "print(\"Path to dataset:\", path)\n"
      ],
      "metadata": {
        "colab": {
          "base_uri": "https://localhost:8080/"
        },
        "id": "bf5XzsILcqmR",
        "outputId": "780da139-b709-458c-effe-64a66d50235a"
      },
      "execution_count": null,
      "outputs": [
        {
          "output_type": "stream",
          "name": "stdout",
          "text": [
            "Path to dataset: /root/.cache/kagglehub/datasets/parisrohan/credit-score-classification/versions/1\n"
          ]
        }
      ]
    },
    {
      "cell_type": "markdown",
      "source": [
        " Load the Dataset into DataFrames"
      ],
      "metadata": {
        "id": "7FcDKerhc35W"
      }
    },
    {
      "cell_type": "code",
      "source": [
        "# Load the datasets\n",
        "train_path = \"/root/.cache/kagglehub/datasets/parisrohan/credit-score-classification/versions/1/train.csv\"\n",
        "test_path = \"/root/.cache/kagglehub/datasets/parisrohan/credit-score-classification/versions/1/test.csv\"\n",
        "\n",
        "train_df = pd.read_csv(train_path)\n",
        "test_df = pd.read_csv(test_path)\n",
        "\n",
        "# Check the first few rows to ensure the data is loaded\n",
        "print(train_df.head())\n",
        "print(test_df.head())\n"
      ],
      "metadata": {
        "colab": {
          "base_uri": "https://localhost:8080/"
        },
        "id": "3ar4d_aYcscL",
        "outputId": "43d94c4f-88cf-4f40-fd6f-723931233187"
      },
      "execution_count": null,
      "outputs": [
        {
          "output_type": "stream",
          "name": "stderr",
          "text": [
            "<ipython-input-63-b2f4c1071b68>:5: DtypeWarning: Columns (26) have mixed types. Specify dtype option on import or set low_memory=False.\n",
            "  train_df = pd.read_csv(train_path)\n"
          ]
        },
        {
          "output_type": "stream",
          "name": "stdout",
          "text": [
            "       ID Customer_ID     Month           Name   Age          SSN Occupation  \\\n",
            "0  0x1602   CUS_0xd40   January  Aaron Maashoh    23  821-00-0265  Scientist   \n",
            "1  0x1603   CUS_0xd40  February  Aaron Maashoh    23  821-00-0265  Scientist   \n",
            "2  0x1604   CUS_0xd40     March  Aaron Maashoh  -500  821-00-0265  Scientist   \n",
            "3  0x1605   CUS_0xd40     April  Aaron Maashoh    23  821-00-0265  Scientist   \n",
            "4  0x1606   CUS_0xd40       May  Aaron Maashoh    23  821-00-0265  Scientist   \n",
            "\n",
            "  Annual_Income  Monthly_Inhand_Salary  Num_Bank_Accounts  ...  Credit_Mix  \\\n",
            "0      19114.12            1824.843333                  3  ...           _   \n",
            "1      19114.12                    NaN                  3  ...        Good   \n",
            "2      19114.12                    NaN                  3  ...        Good   \n",
            "3      19114.12                    NaN                  3  ...        Good   \n",
            "4      19114.12            1824.843333                  3  ...        Good   \n",
            "\n",
            "   Outstanding_Debt Credit_Utilization_Ratio     Credit_History_Age  \\\n",
            "0            809.98                26.822620  22 Years and 1 Months   \n",
            "1            809.98                31.944960                    NaN   \n",
            "2            809.98                28.609352  22 Years and 3 Months   \n",
            "3            809.98                31.377862  22 Years and 4 Months   \n",
            "4            809.98                24.797347  22 Years and 5 Months   \n",
            "\n",
            "   Payment_of_Min_Amount Total_EMI_per_month Amount_invested_monthly  \\\n",
            "0                     No           49.574949       80.41529543900253   \n",
            "1                     No           49.574949      118.28022162236736   \n",
            "2                     No           49.574949         81.699521264648   \n",
            "3                     No           49.574949       199.4580743910713   \n",
            "4                     No           49.574949      41.420153086217326   \n",
            "\n",
            "                  Payment_Behaviour     Monthly_Balance Credit_Score  \n",
            "0   High_spent_Small_value_payments  312.49408867943663         Good  \n",
            "1    Low_spent_Large_value_payments  284.62916249607184         Good  \n",
            "2   Low_spent_Medium_value_payments   331.2098628537912         Good  \n",
            "3    Low_spent_Small_value_payments  223.45130972736786         Good  \n",
            "4  High_spent_Medium_value_payments  341.48923103222177         Good  \n",
            "\n",
            "[5 rows x 28 columns]\n",
            "       ID Customer_ID      Month             Name  Age          SSN  \\\n",
            "0  0x160a   CUS_0xd40  September    Aaron Maashoh   23  821-00-0265   \n",
            "1  0x160b   CUS_0xd40    October    Aaron Maashoh   24  821-00-0265   \n",
            "2  0x160c   CUS_0xd40   November    Aaron Maashoh   24  821-00-0265   \n",
            "3  0x160d   CUS_0xd40   December    Aaron Maashoh  24_  821-00-0265   \n",
            "4  0x1616  CUS_0x21b1  September  Rick Rothackerj   28  004-07-5839   \n",
            "\n",
            "  Occupation Annual_Income  Monthly_Inhand_Salary  Num_Bank_Accounts  ...  \\\n",
            "0  Scientist      19114.12            1824.843333                  3  ...   \n",
            "1  Scientist      19114.12            1824.843333                  3  ...   \n",
            "2  Scientist      19114.12            1824.843333                  3  ...   \n",
            "3  Scientist      19114.12                    NaN                  3  ...   \n",
            "4    _______      34847.84            3037.986667                  2  ...   \n",
            "\n",
            "   Num_Credit_Inquiries  Credit_Mix Outstanding_Debt Credit_Utilization_Ratio  \\\n",
            "0                2022.0        Good           809.98                35.030402   \n",
            "1                   4.0        Good           809.98                33.053114   \n",
            "2                   4.0        Good           809.98                33.811894   \n",
            "3                   4.0        Good           809.98                32.430559   \n",
            "4                   5.0        Good           605.03                25.926822   \n",
            "\n",
            "       Credit_History_Age Payment_of_Min_Amount Total_EMI_per_month  \\\n",
            "0   22 Years and 9 Months                    No           49.574949   \n",
            "1  22 Years and 10 Months                    No           49.574949   \n",
            "2                     NaN                    No           49.574949   \n",
            "3   23 Years and 0 Months                    No           49.574949   \n",
            "4   27 Years and 3 Months                    No           18.816215   \n",
            "\n",
            "   Amount_invested_monthly                 Payment_Behaviour  \\\n",
            "0       236.64268203272135    Low_spent_Small_value_payments   \n",
            "1       21.465380264657146  High_spent_Medium_value_payments   \n",
            "2       148.23393788500925   Low_spent_Medium_value_payments   \n",
            "3        39.08251089460281  High_spent_Medium_value_payments   \n",
            "4       39.684018417945296   High_spent_Large_value_payments   \n",
            "\n",
            "      Monthly_Balance  \n",
            "0  186.26670208571772  \n",
            "1  361.44400385378196  \n",
            "2  264.67544623342997  \n",
            "3  343.82687322383634  \n",
            "4   485.2984336755923  \n",
            "\n",
            "[5 rows x 27 columns]\n"
          ]
        }
      ]
    },
    {
      "cell_type": "markdown",
      "source": [
        "Drop Irrelevant Columns"
      ],
      "metadata": {
        "id": "-pENnMqgdC7g"
      }
    },
    {
      "cell_type": "code",
      "source": [
        "# Drop irrelevant columns\n",
        "train_df = train_df.drop(['ID', 'Customer_ID', 'Name', 'Month', 'SSN'], axis=1)\n",
        "test_df = test_df.drop(['ID', 'Customer_ID', 'Name', 'Month', 'SSN'], axis=1)\n"
      ],
      "metadata": {
        "id": "Oe-Kp19Sc889"
      },
      "execution_count": null,
      "outputs": []
    },
    {
      "cell_type": "code",
      "source": [
        "# List of numeric columns to clean\n",
        "numeric_columns = ['Age', 'Annual_Income', 'Outstanding_Debt', 'Monthly_Balance']\n",
        "\n",
        "# Ensure columns are numeric, convert errors to NaN\n",
        "for col in numeric_columns:\n",
        "    train_df[col] = pd.to_numeric(train_df[col], errors='coerce')\n",
        "    test_df[col] = pd.to_numeric(test_df[col], errors='coerce')\n",
        "\n",
        "# Fill missing values with the mean\n",
        "for col in numeric_columns:\n",
        "    train_df[col].fillna(train_df[col].mean(), inplace=True)\n",
        "    test_df[col].fillna(test_df[col].mean(), inplace=True)\n"
      ],
      "metadata": {
        "colab": {
          "base_uri": "https://localhost:8080/"
        },
        "id": "duPisYAfeaUE",
        "outputId": "eda2150b-1046-4cdc-b5d8-250ae0ad4d4a"
      },
      "execution_count": null,
      "outputs": [
        {
          "output_type": "stream",
          "name": "stderr",
          "text": [
            "<ipython-input-65-710d6e9ba8e0>:11: FutureWarning: A value is trying to be set on a copy of a DataFrame or Series through chained assignment using an inplace method.\n",
            "The behavior will change in pandas 3.0. This inplace method will never work because the intermediate object on which we are setting values always behaves as a copy.\n",
            "\n",
            "For example, when doing 'df[col].method(value, inplace=True)', try using 'df.method({col: value}, inplace=True)' or df[col] = df[col].method(value) instead, to perform the operation inplace on the original object.\n",
            "\n",
            "\n",
            "  train_df[col].fillna(train_df[col].mean(), inplace=True)\n",
            "<ipython-input-65-710d6e9ba8e0>:12: FutureWarning: A value is trying to be set on a copy of a DataFrame or Series through chained assignment using an inplace method.\n",
            "The behavior will change in pandas 3.0. This inplace method will never work because the intermediate object on which we are setting values always behaves as a copy.\n",
            "\n",
            "For example, when doing 'df[col].method(value, inplace=True)', try using 'df.method({col: value}, inplace=True)' or df[col] = df[col].method(value) instead, to perform the operation inplace on the original object.\n",
            "\n",
            "\n",
            "  test_df[col].fillna(test_df[col].mean(), inplace=True)\n"
          ]
        }
      ]
    },
    {
      "cell_type": "code",
      "source": [
        "# Print unique values from the 'Credit_History_Age' column to see if there's anything unexpected\n",
        "print(train_df['Credit_History_Age'].unique())\n"
      ],
      "metadata": {
        "colab": {
          "base_uri": "https://localhost:8080/"
        },
        "id": "6yR3u40EgBmT",
        "outputId": "bd7caaa6-3094-4db1-9790-b60ca75cb608"
      },
      "execution_count": null,
      "outputs": [
        {
          "output_type": "stream",
          "name": "stdout",
          "text": [
            "['22 Years and 1 Months' nan '22 Years and 3 Months'\n",
            " '22 Years and 4 Months' '22 Years and 5 Months' '22 Years and 6 Months'\n",
            " '22 Years and 7 Months' '26 Years and 7 Months' '26 Years and 8 Months'\n",
            " '26 Years and 9 Months' '26 Years and 10 Months' '26 Years and 11 Months'\n",
            " '27 Years and 0 Months' '27 Years and 1 Months' '27 Years and 2 Months'\n",
            " '17 Years and 9 Months' '17 Years and 10 Months' '17 Years and 11 Months'\n",
            " '18 Years and 1 Months' '18 Years and 2 Months' '18 Years and 3 Months'\n",
            " '18 Years and 4 Months' '17 Years and 3 Months' '17 Years and 4 Months'\n",
            " '17 Years and 5 Months' '17 Years and 6 Months' '17 Years and 7 Months'\n",
            " '17 Years and 8 Months' '30 Years and 8 Months' '30 Years and 9 Months'\n",
            " '30 Years and 10 Months' '30 Years and 11 Months' '31 Years and 0 Months'\n",
            " '31 Years and 1 Months' '31 Years and 2 Months' '31 Years and 3 Months'\n",
            " '32 Years and 0 Months' '32 Years and 2 Months' '32 Years and 3 Months'\n",
            " '32 Years and 5 Months' '32 Years and 6 Months' '30 Years and 7 Months'\n",
            " '14 Years and 8 Months' '14 Years and 9 Months' '14 Years and 10 Months'\n",
            " '14 Years and 11 Months' '15 Years and 0 Months' '15 Years and 1 Months'\n",
            " '15 Years and 2 Months' '21 Years and 4 Months' '21 Years and 5 Months'\n",
            " '21 Years and 6 Months' '21 Years and 7 Months' '21 Years and 8 Months'\n",
            " '21 Years and 9 Months' '21 Years and 10 Months' '21 Years and 11 Months'\n",
            " '26 Years and 6 Months' '19 Years and 2 Months' '19 Years and 3 Months'\n",
            " '19 Years and 4 Months' '19 Years and 5 Months' '19 Years and 6 Months'\n",
            " '19 Years and 7 Months' '19 Years and 8 Months' '25 Years and 5 Months'\n",
            " '25 Years and 6 Months' '25 Years and 7 Months' '25 Years and 8 Months'\n",
            " '25 Years and 9 Months' '25 Years and 10 Months' '25 Years and 11 Months'\n",
            " '26 Years and 0 Months' '27 Years and 3 Months' '27 Years and 4 Months'\n",
            " '27 Years and 5 Months' '8 Years and 11 Months' '9 Years and 0 Months'\n",
            " '9 Years and 1 Months' '9 Years and 2 Months' '9 Years and 3 Months'\n",
            " '9 Years and 4 Months' '9 Years and 6 Months' '18 Years and 5 Months'\n",
            " '18 Years and 6 Months' '18 Years and 8 Months' '18 Years and 9 Months'\n",
            " '16 Years and 10 Months' '16 Years and 11 Months' '17 Years and 0 Months'\n",
            " '17 Years and 1 Months' '17 Years and 2 Months' '29 Years and 2 Months'\n",
            " '29 Years and 3 Months' '29 Years and 4 Months' '29 Years and 6 Months'\n",
            " '29 Years and 8 Months' '29 Years and 9 Months' '6 Years and 5 Months'\n",
            " '6 Years and 6 Months' '6 Years and 7 Months' '6 Years and 8 Months'\n",
            " '6 Years and 9 Months' '6 Years and 10 Months' '6 Years and 11 Months'\n",
            " '7 Years and 0 Months' '27 Years and 6 Months' '27 Years and 7 Months'\n",
            " '27 Years and 8 Months' '27 Years and 9 Months' '18 Years and 7 Months'\n",
            " '19 Years and 9 Months' '19 Years and 10 Months' '10 Years and 1 Months'\n",
            " '10 Years and 2 Months' '10 Years and 3 Months' '10 Years and 4 Months'\n",
            " '10 Years and 5 Months' '10 Years and 6 Months' '10 Years and 7 Months'\n",
            " '10 Years and 8 Months' '32 Years and 9 Months' '32 Years and 10 Months'\n",
            " '32 Years and 11 Months' '33 Years and 0 Months' '33 Years and 1 Months'\n",
            " '33 Years and 4 Months' '12 Years and 3 Months' '12 Years and 4 Months'\n",
            " '12 Years and 5 Months' '12 Years and 6 Months' '12 Years and 7 Months'\n",
            " '12 Years and 8 Months' '12 Years and 10 Months' '12 Years and 9 Months'\n",
            " '13 Years and 8 Months' '13 Years and 11 Months' '14 Years and 0 Months'\n",
            " '14 Years and 1 Months' '14 Years and 2 Months' '14 Years and 3 Months'\n",
            " '30 Years and 3 Months' '30 Years and 4 Months' '30 Years and 5 Months'\n",
            " '30 Years and 6 Months' '8 Years and 9 Months' '8 Years and 10 Months'\n",
            " '18 Years and 10 Months' '18 Years and 11 Months' '19 Years and 0 Months'\n",
            " '19 Years and 1 Months' '8 Years and 8 Months' '13 Years and 1 Months'\n",
            " '13 Years and 2 Months' '13 Years and 3 Months' '13 Years and 5 Months'\n",
            " '13 Years and 6 Months' '13 Years and 7 Months' '22 Years and 0 Months'\n",
            " '26 Years and 1 Months' '26 Years and 2 Months' '13 Years and 4 Months'\n",
            " '13 Years and 9 Months' '27 Years and 11 Months' '28 Years and 0 Months'\n",
            " '28 Years and 1 Months' '28 Years and 2 Months' '28 Years and 3 Months'\n",
            " '28 Years and 4 Months' '28 Years and 5 Months' '28 Years and 6 Months'\n",
            " '7 Years and 10 Months' '7 Years and 11 Months' '8 Years and 0 Months'\n",
            " '8 Years and 1 Months' '8 Years and 2 Months' '8 Years and 3 Months'\n",
            " '8 Years and 4 Months' '8 Years and 5 Months' '24 Years and 3 Months'\n",
            " '24 Years and 4 Months' '24 Years and 5 Months' '24 Years and 6 Months'\n",
            " '24 Years and 7 Months' '24 Years and 8 Months' '24 Years and 9 Months'\n",
            " '1 Years and 2 Months' '1 Years and 3 Months' '1 Years and 4 Months'\n",
            " '1 Years and 5 Months' '1 Years and 6 Months' '1 Years and 7 Months'\n",
            " '1 Years and 8 Months' '10 Years and 11 Months' '11 Years and 0 Months'\n",
            " '11 Years and 1 Months' '11 Years and 2 Months' '11 Years and 3 Months'\n",
            " '11 Years and 4 Months' '11 Years and 5 Months' '11 Years and 6 Months'\n",
            " '19 Years and 11 Months' '20 Years and 0 Months' '20 Years and 1 Months'\n",
            " '10 Years and 9 Months' '10 Years and 10 Months' '14 Years and 4 Months'\n",
            " '14 Years and 5 Months' '14 Years and 6 Months' '20 Years and 8 Months'\n",
            " '20 Years and 9 Months' '20 Years and 10 Months' '20 Years and 11 Months'\n",
            " '21 Years and 0 Months' '21 Years and 1 Months' '21 Years and 2 Months'\n",
            " '21 Years and 3 Months' '0 Years and 4 Months' '0 Years and 5 Months'\n",
            " '0 Years and 6 Months' '0 Years and 8 Months' '0 Years and 9 Months'\n",
            " '0 Years and 10 Months' '31 Years and 7 Months' '31 Years and 8 Months'\n",
            " '31 Years and 9 Months' '31 Years and 10 Months' '31 Years and 11 Months'\n",
            " '32 Years and 1 Months' '12 Years and 11 Months' '13 Years and 0 Months'\n",
            " '27 Years and 10 Months' '11 Years and 7 Months' '11 Years and 8 Months'\n",
            " '11 Years and 9 Months' '11 Years and 10 Months' '24 Years and 10 Months'\n",
            " '24 Years and 11 Months' '25 Years and 0 Months' '25 Years and 1 Months'\n",
            " '25 Years and 2 Months' '25 Years and 3 Months' '18 Years and 0 Months'\n",
            " '31 Years and 4 Months' '31 Years and 5 Months' '31 Years and 6 Months'\n",
            " '5 Years and 2 Months' '5 Years and 3 Months' '5 Years and 4 Months'\n",
            " '5 Years and 5 Months' '5 Years and 6 Months' '5 Years and 7 Months'\n",
            " '5 Years and 8 Months' '5 Years and 9 Months' '2 Years and 11 Months'\n",
            " '3 Years and 0 Months' '3 Years and 1 Months' '3 Years and 2 Months'\n",
            " '3 Years and 3 Months' '3 Years and 4 Months' '3 Years and 5 Months'\n",
            " '3 Years and 6 Months' '16 Years and 4 Months' '16 Years and 5 Months'\n",
            " '16 Years and 6 Months' '16 Years and 7 Months' '16 Years and 8 Months'\n",
            " '16 Years and 9 Months' '22 Years and 11 Months' '23 Years and 0 Months'\n",
            " '23 Years and 2 Months' '23 Years and 3 Months' '23 Years and 4 Months'\n",
            " '23 Years and 5 Months' '23 Years and 6 Months' '8 Years and 6 Months'\n",
            " '8 Years and 7 Months' '4 Years and 5 Months' '4 Years and 6 Months'\n",
            " '4 Years and 7 Months' '4 Years and 8 Months' '4 Years and 9 Months'\n",
            " '4 Years and 10 Months' '4 Years and 11 Months' '5 Years and 0 Months'\n",
            " '32 Years and 8 Months' '33 Years and 2 Months' '33 Years and 3 Months'\n",
            " '12 Years and 2 Months' '32 Years and 4 Months' '29 Years and 11 Months'\n",
            " '30 Years and 0 Months' '30 Years and 2 Months' '26 Years and 3 Months'\n",
            " '26 Years and 4 Months' '26 Years and 5 Months' '7 Years and 6 Months'\n",
            " '7 Years and 7 Months' '7 Years and 8 Months' '7 Years and 9 Months'\n",
            " '28 Years and 7 Months' '28 Years and 8 Months' '28 Years and 9 Months'\n",
            " '28 Years and 10 Months' '29 Years and 5 Months' '29 Years and 7 Months'\n",
            " '20 Years and 2 Months' '20 Years and 3 Months' '20 Years and 4 Months'\n",
            " '20 Years and 5 Months' '20 Years and 6 Months' '20 Years and 7 Months'\n",
            " '28 Years and 11 Months' '29 Years and 0 Months' '13 Years and 10 Months'\n",
            " '1 Years and 9 Months' '1 Years and 10 Months' '1 Years and 11 Months'\n",
            " '33 Years and 5 Months' '33 Years and 6 Months' '33 Years and 7 Months'\n",
            " '33 Years and 8 Months' '29 Years and 1 Months' '5 Years and 1 Months'\n",
            " '5 Years and 10 Months' '5 Years and 11 Months' '6 Years and 0 Months'\n",
            " '6 Years and 1 Months' '6 Years and 2 Months' '6 Years and 3 Months'\n",
            " '22 Years and 9 Months' '22 Years and 10 Months' '23 Years and 1 Months'\n",
            " '22 Years and 2 Months' '15 Years and 4 Months' '15 Years and 5 Months'\n",
            " '15 Years and 6 Months' '15 Years and 7 Months' '15 Years and 8 Months'\n",
            " '15 Years and 9 Months' '15 Years and 10 Months' '15 Years and 11 Months'\n",
            " '2 Years and 3 Months' '2 Years and 4 Months' '2 Years and 5 Months'\n",
            " '2 Years and 6 Months' '2 Years and 7 Months' '2 Years and 8 Months'\n",
            " '2 Years and 9 Months' '2 Years and 10 Months' '2 Years and 0 Months'\n",
            " '16 Years and 2 Months' '16 Years and 3 Months' '22 Years and 8 Months'\n",
            " '9 Years and 5 Months' '9 Years and 7 Months' '9 Years and 8 Months'\n",
            " '9 Years and 9 Months' '11 Years and 11 Months' '12 Years and 0 Months'\n",
            " '12 Years and 1 Months' '24 Years and 2 Months' '16 Years and 0 Months'\n",
            " '16 Years and 1 Months' '14 Years and 7 Months' '25 Years and 4 Months'\n",
            " '15 Years and 3 Months' '7 Years and 1 Months' '7 Years and 2 Months'\n",
            " '7 Years and 3 Months' '7 Years and 4 Months' '7 Years and 5 Months'\n",
            " '23 Years and 7 Months' '23 Years and 8 Months' '23 Years and 9 Months'\n",
            " '30 Years and 1 Months' '29 Years and 10 Months' '9 Years and 10 Months'\n",
            " '9 Years and 11 Months' '10 Years and 0 Months' '2 Years and 2 Months'\n",
            " '23 Years and 10 Months' '23 Years and 11 Months' '24 Years and 0 Months'\n",
            " '24 Years and 1 Months' '6 Years and 4 Months' '0 Years and 1 Months'\n",
            " '0 Years and 2 Months' '0 Years and 3 Months' '0 Years and 7 Months'\n",
            " '3 Years and 8 Months' '32 Years and 7 Months' '3 Years and 7 Months'\n",
            " '3 Years and 9 Months' '3 Years and 10 Months' '0 Years and 11 Months'\n",
            " '1 Years and 0 Months' '1 Years and 1 Months' '4 Years and 4 Months'\n",
            " '3 Years and 11 Months' '4 Years and 0 Months' '4 Years and 1 Months'\n",
            " '4 Years and 2 Months' '4 Years and 3 Months' '2 Years and 1 Months']\n"
          ]
        }
      ]
    },
    {
      "cell_type": "markdown",
      "source": [],
      "metadata": {
        "id": "0bh94HTYdF3C"
      }
    },
    {
      "cell_type": "code",
      "source": [
        "import re\n",
        "\n",
        "def convert_to_months(value):\n",
        "    if pd.isna(value) or not isinstance(value, str):\n",
        "        return np.nan  # Handle missing values or non-string inputs\n",
        "\n",
        "    # Extract years and months using regex\n",
        "    years_match = re.search(r'(\\d+)\\s+Years', value)\n",
        "    months_match = re.search(r'(\\d+)\\s+Months', value)\n",
        "\n",
        "    # Handle cases where either part might be missing\n",
        "    years = int(years_match.group(1)) if years_match else 0\n",
        "    months = int(months_match.group(1)) if months_match else 0\n",
        "\n",
        "    return years * 12 + months\n"
      ],
      "metadata": {
        "id": "-nect6iHdGUx"
      },
      "execution_count": null,
      "outputs": []
    },
    {
      "cell_type": "code",
      "source": [
        "train_df['Credit_History_Age'] = train_df['Credit_History_Age'].apply(convert_to_months)\n",
        "test_df['Credit_History_Age'] = test_df['Credit_History_Age'].apply(convert_to_months)\n",
        "\n",
        "# Fill any remaining NaN values with the column mean\n",
        "train_df['Credit_History_Age'].fillna(train_df['Credit_History_Age'].mean(), inplace=True)\n",
        "test_df['Credit_History_Age'].fillna(test_df['Credit_History_Age'].mean(), inplace=True)\n",
        "\n",
        "# Check the results\n",
        "print(train_df['Credit_History_Age'].head())\n",
        "print(test_df['Credit_History_Age'].head())\n"
      ],
      "metadata": {
        "colab": {
          "base_uri": "https://localhost:8080/"
        },
        "id": "-66D30x1gkO1",
        "outputId": "c4b12e04-bc22-407b-f303-9b1d8b8aaab2"
      },
      "execution_count": null,
      "outputs": [
        {
          "output_type": "stream",
          "name": "stdout",
          "text": [
            "0    265.000000\n",
            "1    221.195405\n",
            "2    267.000000\n",
            "3    268.000000\n",
            "4    269.000000\n",
            "Name: Credit_History_Age, dtype: float64\n",
            "0    273.000000\n",
            "1    274.000000\n",
            "2    227.251175\n",
            "3    276.000000\n",
            "4    327.000000\n",
            "Name: Credit_History_Age, dtype: float64\n"
          ]
        },
        {
          "output_type": "stream",
          "name": "stderr",
          "text": [
            "<ipython-input-68-8218056281be>:5: FutureWarning: A value is trying to be set on a copy of a DataFrame or Series through chained assignment using an inplace method.\n",
            "The behavior will change in pandas 3.0. This inplace method will never work because the intermediate object on which we are setting values always behaves as a copy.\n",
            "\n",
            "For example, when doing 'df[col].method(value, inplace=True)', try using 'df.method({col: value}, inplace=True)' or df[col] = df[col].method(value) instead, to perform the operation inplace on the original object.\n",
            "\n",
            "\n",
            "  train_df['Credit_History_Age'].fillna(train_df['Credit_History_Age'].mean(), inplace=True)\n",
            "<ipython-input-68-8218056281be>:6: FutureWarning: A value is trying to be set on a copy of a DataFrame or Series through chained assignment using an inplace method.\n",
            "The behavior will change in pandas 3.0. This inplace method will never work because the intermediate object on which we are setting values always behaves as a copy.\n",
            "\n",
            "For example, when doing 'df[col].method(value, inplace=True)', try using 'df.method({col: value}, inplace=True)' or df[col] = df[col].method(value) instead, to perform the operation inplace on the original object.\n",
            "\n",
            "\n",
            "  test_df['Credit_History_Age'].fillna(test_df['Credit_History_Age'].mean(), inplace=True)\n"
          ]
        }
      ]
    },
    {
      "cell_type": "code",
      "source": [
        "from sklearn.preprocessing import StandardScaler\n",
        "\n",
        "scaler = StandardScaler()\n",
        "train_df[['Credit_History_Age']] = scaler.fit_transform(train_df[['Credit_History_Age']])\n",
        "test_df[['Credit_History_Age']] = scaler.transform(test_df[['Credit_History_Age']])\n",
        "\n",
        "# Verify scaling\n",
        "print(train_df['Credit_History_Age'].head())\n",
        "print(test_df['Credit_History_Age'].head())\n"
      ],
      "metadata": {
        "colab": {
          "base_uri": "https://localhost:8080/"
        },
        "id": "cB7of3rkg6UW",
        "outputId": "27b05287-6837-4c3a-9507-267983489682"
      },
      "execution_count": null,
      "outputs": [
        {
          "output_type": "stream",
          "name": "stdout",
          "text": [
            "0    0.460466\n",
            "1    0.000000\n",
            "2    0.481490\n",
            "3    0.492002\n",
            "4    0.502513\n",
            "Name: Credit_History_Age, dtype: float64\n",
            "0    0.544561\n",
            "1    0.555072\n",
            "2    0.063657\n",
            "3    0.576096\n",
            "4    1.112199\n",
            "Name: Credit_History_Age, dtype: float64\n"
          ]
        }
      ]
    },
    {
      "cell_type": "code",
      "source": [
        "from sklearn.preprocessing import OneHotEncoder\n",
        "\n",
        "# Encode categorical columns\n",
        "categorical_cols = ['Occupation', 'Credit_Mix', 'Payment_of_Min_Amount', 'Payment_Behaviour']\n",
        "encoder = OneHotEncoder(sparse_output=False)\n",
        "\n",
        "train_encoded = encoder.fit_transform(train_df[categorical_cols])\n",
        "test_encoded = encoder.transform(test_df[categorical_cols])\n",
        "\n",
        "# Convert to DataFrame and merge with original data\n",
        "train_encoded_df = pd.DataFrame(train_encoded, columns=encoder.get_feature_names_out(categorical_cols))\n",
        "test_encoded_df = pd.DataFrame(test_encoded, columns=encoder.get_feature_names_out(categorical_cols))\n",
        "\n",
        "train_df = pd.concat([train_df.reset_index(drop=True), train_encoded_df], axis=1).drop(columns=categorical_cols)\n",
        "test_df = pd.concat([test_df.reset_index(drop=True), test_encoded_df], axis=1).drop(columns=categorical_cols)\n"
      ],
      "metadata": {
        "id": "4oKnw76Fg89F"
      },
      "execution_count": null,
      "outputs": []
    },
    {
      "cell_type": "code",
      "source": [
        "print(train_df['Credit_Score'].unique)"
      ],
      "metadata": {
        "colab": {
          "base_uri": "https://localhost:8080/"
        },
        "id": "3qah6K4JjLat",
        "outputId": "14e4c891-dbd0-4458-a409-e8219e9b2fc8"
      },
      "execution_count": null,
      "outputs": [
        {
          "output_type": "stream",
          "name": "stdout",
          "text": [
            "<bound method Series.unique of 0        2\n",
            "1        2\n",
            "2        2\n",
            "3        2\n",
            "4        2\n",
            "        ..\n",
            "99995    0\n",
            "99996    0\n",
            "99997    0\n",
            "99998    1\n",
            "99999    0\n",
            "Name: Credit_Score, Length: 100000, dtype: int64>\n"
          ]
        }
      ]
    },
    {
      "cell_type": "code",
      "source": [
        "from sklearn.model_selection import train_test_split\n",
        "from sklearn.ensemble import RandomForestClassifier\n",
        "from sklearn.metrics import classification_report\n",
        "\n",
        "# Split the data into features and target\n",
        "X = train_df.drop('Credit_Score', axis=1)\n",
        "y = train_df['Credit_Score']\n"
      ],
      "metadata": {
        "id": "KnvxSeHGkUN0"
      },
      "execution_count": null,
      "outputs": []
    },
    {
      "cell_type": "code",
      "source": [
        "print(X.isna().sum())  # Check for any missing values\n",
        "X = X.fillna(0)  # Replace NaNs with 0 or another suitable value\n"
      ],
      "metadata": {
        "colab": {
          "base_uri": "https://localhost:8080/"
        },
        "id": "onqdHhObkW9M",
        "outputId": "504aeb3e-ce5c-4da3-9f74-e828fdf7fddb"
      },
      "execution_count": null,
      "outputs": [
        {
          "output_type": "stream",
          "name": "stdout",
          "text": [
            "Age                                                       0\n",
            "Annual_Income                                             0\n",
            "Monthly_Inhand_Salary                                 15002\n",
            "Num_Bank_Accounts                                         0\n",
            "Num_Credit_Card                                           0\n",
            "Interest_Rate                                             0\n",
            "Num_of_Loan                                               0\n",
            "Type_of_Loan                                          11408\n",
            "Delay_from_due_date                                       0\n",
            "Num_of_Delayed_Payment                                 7002\n",
            "Changed_Credit_Limit                                      0\n",
            "Num_Credit_Inquiries                                   1965\n",
            "Outstanding_Debt                                          0\n",
            "Credit_Utilization_Ratio                                  0\n",
            "Credit_History_Age                                        0\n",
            "Total_EMI_per_month                                       0\n",
            "Amount_invested_monthly                                4479\n",
            "Monthly_Balance                                           0\n",
            "Occupation_Accountant                                     0\n",
            "Occupation_Architect                                      0\n",
            "Occupation_Developer                                      0\n",
            "Occupation_Doctor                                         0\n",
            "Occupation_Engineer                                       0\n",
            "Occupation_Entrepreneur                                   0\n",
            "Occupation_Journalist                                     0\n",
            "Occupation_Lawyer                                         0\n",
            "Occupation_Manager                                        0\n",
            "Occupation_Mechanic                                       0\n",
            "Occupation_Media_Manager                                  0\n",
            "Occupation_Musician                                       0\n",
            "Occupation_Scientist                                      0\n",
            "Occupation_Teacher                                        0\n",
            "Occupation_Writer                                         0\n",
            "Occupation________                                        0\n",
            "Credit_Mix_Bad                                            0\n",
            "Credit_Mix_Good                                           0\n",
            "Credit_Mix_Standard                                       0\n",
            "Credit_Mix__                                              0\n",
            "Payment_of_Min_Amount_NM                                  0\n",
            "Payment_of_Min_Amount_No                                  0\n",
            "Payment_of_Min_Amount_Yes                                 0\n",
            "Payment_Behaviour_!@9#%8                                  0\n",
            "Payment_Behaviour_High_spent_Large_value_payments         0\n",
            "Payment_Behaviour_High_spent_Medium_value_payments        0\n",
            "Payment_Behaviour_High_spent_Small_value_payments         0\n",
            "Payment_Behaviour_Low_spent_Large_value_payments          0\n",
            "Payment_Behaviour_Low_spent_Medium_value_payments         0\n",
            "Payment_Behaviour_Low_spent_Small_value_payments          0\n",
            "dtype: int64\n"
          ]
        }
      ]
    },
    {
      "cell_type": "code",
      "source": [
        "# print(X.dtypes)\n",
        "X = X.apply(pd.to_numeric, errors='coerce')  # Convert to numeric if necessary\n"
      ],
      "metadata": {
        "id": "T5VuEmi0kxQt"
      },
      "execution_count": null,
      "outputs": []
    },
    {
      "cell_type": "code",
      "source": [
        "X_train, X_val, y_train, y_val = train_test_split(X, y, test_size=0.2, random_state=42)\n",
        "\n",
        "model = RandomForestClassifier(n_estimators=100, random_state=42)\n",
        "model.fit(X_train, y_train)\n",
        "\n",
        "y_pred = model.predict(X_val)\n",
        "print(classification_report(y_val, y_pred))\n",
        "\n"
      ],
      "metadata": {
        "colab": {
          "base_uri": "https://localhost:8080/"
        },
        "id": "wMktMh4_iGIU",
        "outputId": "66d43e68-e042-4fbc-c833-a36368687cc5"
      },
      "execution_count": null,
      "outputs": [
        {
          "output_type": "stream",
          "name": "stdout",
          "text": [
            "              precision    recall  f1-score   support\n",
            "\n",
            "           0       0.78      0.77      0.77      5874\n",
            "           1       0.79      0.80      0.80     10599\n",
            "           2       0.71      0.69      0.70      3527\n",
            "\n",
            "    accuracy                           0.77     20000\n",
            "   macro avg       0.76      0.75      0.76     20000\n",
            "weighted avg       0.77      0.77      0.77     20000\n",
            "\n"
          ]
        }
      ]
    }
  ]
}